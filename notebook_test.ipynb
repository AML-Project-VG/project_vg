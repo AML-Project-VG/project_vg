{
 "cells": [
  {
   "cell_type": "markdown",
   "metadata": {},
   "source": [
    "##GeM test"
   ]
  },
  {
   "cell_type": "code",
   "execution_count": null,
   "metadata": {},
   "outputs": [],
   "source": [
    "!python3 run_test.py --datasets_folder ./Dataset_pitts30k --test_dataset_name pitts30k --test_model_path \"./Runs/gem_20_10e-6_adam/best_model.pth\" "
   ]
  },
  {
   "cell_type": "code",
   "execution_count": null,
   "metadata": {},
   "outputs": [],
   "source": [
    "!python3 run_test.py --datasets_folder ./Dataset_pitts30k --test_dataset_name pitts30k --test_model_path \"./Runs/gem_20_10e-6_adagrad/best_model.pth\" "
   ]
  },
  {
   "cell_type": "code",
   "execution_count": null,
   "metadata": {},
   "outputs": [],
   "source": [
    "!python3 run_test.py --datasets_folder ./Dataset_pitts30k --test_dataset_name st_lucia --test_model_path \"./Runs/gem_20_10e-6_adam/best_model.pth\" "
   ]
  },
  {
   "cell_type": "code",
   "execution_count": null,
   "metadata": {},
   "outputs": [],
   "source": [
    "!python3 run_test.py --datasets_folder ./Dataset_pitts30k --test_dataset_name pitts30k --test_model_path \"./Runs/gem_20_10e-6_adam/best_model.pth\" "
   ]
  },
  {
   "cell_type": "markdown",
   "metadata": {},
   "source": [
    "##Netvlad Test"
   ]
  },
  {
   "cell_type": "code",
   "execution_count": 16,
   "metadata": {},
   "outputs": [
    {
     "name": "stdout",
     "output_type": "stream",
     "text": [
      "2022-01-17 11:42:42   Arguments: Namespace(upscale_input=True, downscale_input=False, augment_input='None', backbone='resnet18', use_netvlad=True, netvlad_clusters=64, use_gem=None, gem_p=3, gem_eps=1e-06, use_sgd=None, use_adagrad=None, momentum=0.9, train_batch_size=4, infer_batch_size=16, margin=0.1, epochs_num=5, patience=3, lr=1e-05, cache_refresh_rate=1000, queries_per_epoch=5000, negs_num_per_query=10, neg_samples_num=1000, seed=0, device='cuda', num_workers=8, val_positive_dist_threshold=25, train_positives_dist_threshold=10, recall_values=[1, 5, 10, 20], datasets_folder='./Dataset_pitts30k', exp_name='default', test_dataset_name='st_lucia', test_model_path='./Runs/netvlad_20_64_10e-5_adam_upscale/best_model.pth', output_folder='test_runs/default/2022-01-17_11-42-42')\n",
      "2022-01-17 11:42:42   The outputs are being saved in test_runs/default/2022-01-17_11-42-42\n",
      "2022-01-17 11:42:42   Using 1 GPUs and 12 CPUs\n",
      "2022-01-17 11:42:42   Loading test dataset st_lucia from folder ./Dataset_pitts30k\n",
      "2022-01-17 11:42:42   \n",
      "Traceback (most recent call last):\n",
      "  File \"/home/franzhd/Aml_project/project_vg/run_test.py\", line 33, in <module>\n",
      "    test_ds = datasets_ws.BaseDataset(\n",
      "  File \"/home/franzhd/Aml_project/project_vg/datasets_ws.py\", line 93, in __init__\n",
      "    if not os.path.exists(self.dataset_folder): raise FileNotFoundError(f\"Folder {self.dataset_folder} does not exist\")\n",
      "FileNotFoundError: Folder ./Dataset_pitts30k/st_lucia/images/test does not exist\n",
      "\n"
     ]
    }
   ],
   "source": [
    "!python3 run_test.py --datasets_folder ./Dataset_st_lucia --test_dataset_name st_lucia --test_model_path \"./Runs/netvlad_20_64_10e-5_adam_upscale/best_model.pth\" --use_netvlad True --upscale_input True"
   ]
  }
 ],
 "metadata": {
  "interpreter": {
   "hash": "aee8b7b246df8f9039afb4144a1f6fd8d2ca17a180786b69acc140d282b71a49"
  },
  "kernelspec": {
   "display_name": "Python 3.9.7 64-bit",
   "language": "python",
   "name": "python3"
  },
  "language_info": {
   "codemirror_mode": {
    "name": "ipython",
    "version": 3
   },
   "file_extension": ".py",
   "mimetype": "text/x-python",
   "name": "python",
   "nbconvert_exporter": "python",
   "pygments_lexer": "ipython3",
   "version": "3.9.7"
  },
  "orig_nbformat": 4
 },
 "nbformat": 4,
 "nbformat_minor": 2
}
