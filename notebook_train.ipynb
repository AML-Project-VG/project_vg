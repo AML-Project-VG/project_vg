{
 "cells": [
  {
   "cell_type": "code",
   "execution_count": 7,
   "metadata": {},
   "outputs": [
    {
     "name": "stdout",
     "output_type": "stream",
     "text": [
      "2022-01-16 18:34:09   Arguments: Namespace(upscale_input=False, downscale_input=False, augment_input='None', backbone='resnet50', use_netvlad=True, netvlad_clusters=64, use_gem=None, gem_p=3, gem_eps=1e-06, use_sgd=None, use_adagrad=None, momentum=0.9, train_batch_size=4, infer_batch_size=16, margin=0.1, epochs_num=20, patience=3, lr=1e-05, cache_refresh_rate=1000, queries_per_epoch=5000, negs_num_per_query=10, neg_samples_num=1000, seed=0, device='cuda', num_workers=12, val_positive_dist_threshold=25, train_positives_dist_threshold=10, recall_values=[1, 5, 10, 20], datasets_folder='./Dataset_pitts30k', exp_name='default', test_dataset_name=None, test_model_path=None, output_folder='runs/default/2022-01-16_18-34-09')\n",
      "2022-01-16 18:34:09   The outputs are being saved in runs/default/2022-01-16_18-34-09\n",
      "2022-01-16 18:34:09   Using 1 GPUs and 12 CPUs\n",
      "2022-01-16 18:34:09   Loading dataset Pitts30k from folder ./Dataset_pitts30k\n",
      "2022-01-16 18:34:09   There are 96 queries without any positives within the training set. They won't be considered as they're useless for training.\n",
      "/usr/lib/python3/dist-packages/numpy/core/_asarray.py:83: VisibleDeprecationWarning: Creating an ndarray from ragged nested sequences (which is a list-or-tuple of lists-or-tuples-or ndarrays with different lengths or shapes) is deprecated. If you meant to do this, you must specify 'dtype=object' when creating the ndarray\n",
      "  return array(a, dtype, copy=False, order=order)\n",
      "2022-01-16 18:34:09   Train query set: < TripletsDataset, pitts30k - #database: 10000; #queries: 7320 >\n",
      "2022-01-16 18:34:09   Val set: < BaseDataset, pitts30k - #database: 10000; #queries: 7608 >\n",
      "2022-01-16 18:34:09   Test set: < BaseDataset, pitts30k - #database: 10000; #queries: 6816 >\n",
      "2022-01-16 18:34:10   Train only conv5 of the ResNet-50, freeze the previous ones\n",
      "Using Adam\n",
      "2022-01-16 18:34:21   Output dimension of the model is 131072\n",
      "2022-01-16 18:34:21   Start training epoch: 00\n",
      "2022-01-16 18:34:21   Cache: 0 / 5\n",
      "100%|█████████████████████████████████████████████████████████████| 688/688 [02:09<00:00,  5.31it/s]\n",
      "100%|███████████████████████████████████████████████████████████| 1000/1000 [05:10<00:00,  3.23it/s]\n",
      "  0%|                                                                       | 0/250 [00:05<?, ?it/s]\n",
      "2022-01-16 18:41:46   \n",
      "Traceback (most recent call last):\n",
      "  File \"/home/franzhd/Aml_project/project_vg/run_train.py\", line 100, in <module>\n",
      "    features = model(images.to(args.device))\n",
      "  File \"/home/franzhd/.local/lib/python3.9/site-packages/torch/nn/modules/module.py\", line 1102, in _call_impl\n",
      "    return forward_call(*input, **kwargs)\n",
      "  File \"/home/franzhd/Aml_project/project_vg/network.py\", line 46, in forward\n",
      "    x = self.aggregation(x)\n",
      "  File \"/home/franzhd/.local/lib/python3.9/site-packages/torch/nn/modules/module.py\", line 1102, in _call_impl\n",
      "    return forward_call(*input, **kwargs)\n",
      "  File \"/home/franzhd/Aml_project/project_vg/netvlad.py\", line 64, in forward\n",
      "    residual = x_flatten.unsqueeze(0).permute(1, 0, 2, 3) - \\\n",
      "RuntimeError: CUDA out of memory. Tried to allocate 114.00 MiB (GPU 0; 7.77 GiB total capacity; 5.06 GiB already allocated; 39.19 MiB free; 5.27 GiB reserved in total by PyTorch) If reserved memory is >> allocated memory try setting max_split_size_mb to avoid fragmentation.  See documentation for Memory Management and PYTORCH_CUDA_ALLOC_CONF\n",
      "\n"
     ]
    }
   ],
   "source": [
    "!python3 run_train.py --num_workers 12 --datasets_folder ./Dataset_pitts30k --use_netvlad True --backbone resnet50 --lr 0.00001 --epoch 20"
   ]
  },
  {
   "cell_type": "code",
   "execution_count": 8,
   "metadata": {},
   "outputs": [
    {
     "name": "stdout",
     "output_type": "stream",
     "text": [
      "2022-01-16 18:41:49   Arguments: Namespace(upscale_input=False, downscale_input=False, augment_input='None', backbone='resnet50moco', use_netvlad=True, netvlad_clusters=64, use_gem=None, gem_p=3, gem_eps=1e-06, use_sgd=None, use_adagrad=None, momentum=0.9, train_batch_size=4, infer_batch_size=16, margin=0.1, epochs_num=20, patience=3, lr=1e-05, cache_refresh_rate=1000, queries_per_epoch=5000, negs_num_per_query=10, neg_samples_num=1000, seed=0, device='cuda', num_workers=12, val_positive_dist_threshold=25, train_positives_dist_threshold=10, recall_values=[1, 5, 10, 20], datasets_folder='./Dataset_pitts30k', exp_name='default', test_dataset_name=None, test_model_path=None, output_folder='runs/default/2022-01-16_18-41-49')\n",
      "2022-01-16 18:41:49   The outputs are being saved in runs/default/2022-01-16_18-41-49\n",
      "2022-01-16 18:41:49   Using 1 GPUs and 12 CPUs\n",
      "2022-01-16 18:41:49   Loading dataset Pitts30k from folder ./Dataset_pitts30k\n",
      "2022-01-16 18:41:49   There are 96 queries without any positives within the training set. They won't be considered as they're useless for training.\n",
      "/usr/lib/python3/dist-packages/numpy/core/_asarray.py:83: VisibleDeprecationWarning: Creating an ndarray from ragged nested sequences (which is a list-or-tuple of lists-or-tuples-or ndarrays with different lengths or shapes) is deprecated. If you meant to do this, you must specify 'dtype=object' when creating the ndarray\n",
      "  return array(a, dtype, copy=False, order=order)\n",
      "2022-01-16 18:41:49   Train query set: < TripletsDataset, pitts30k - #database: 10000; #queries: 7320 >\n",
      "2022-01-16 18:41:49   Val set: < BaseDataset, pitts30k - #database: 10000; #queries: 7608 >\n",
      "2022-01-16 18:41:49   Test set: < BaseDataset, pitts30k - #database: 10000; #queries: 6816 >\n",
      "2022-01-16 18:41:49   \n",
      "Traceback (most recent call last):\n",
      "  File \"/home/franzhd/Aml_project/project_vg/run_train.py\", line 47, in <module>\n",
      "    model = network.GeoLocalizationNet(args)\n",
      "  File \"/home/franzhd/Aml_project/project_vg/network.py\", line 20, in __init__\n",
      "    self.backbone = get_backbone(args)\n",
      "  File \"/home/franzhd/Aml_project/project_vg/network.py\", line 81, in get_backbone\n",
      "    backbone = torch.load('moco_v1_200ep_pretrain.pth.tar')\n",
      "  File \"/home/franzhd/.local/lib/python3.9/site-packages/torch/serialization.py\", line 594, in load\n",
      "    with _open_file_like(f, 'rb') as opened_file:\n",
      "  File \"/home/franzhd/.local/lib/python3.9/site-packages/torch/serialization.py\", line 230, in _open_file_like\n",
      "    return _open_file(name_or_buffer, mode)\n",
      "  File \"/home/franzhd/.local/lib/python3.9/site-packages/torch/serialization.py\", line 211, in __init__\n",
      "    super(_open_file, self).__init__(open(name, mode))\n",
      "FileNotFoundError: [Errno 2] No such file or directory: 'moco_v1_200ep_pretrain.pth.tar'\n",
      "\n"
     ]
    }
   ],
   "source": [
    "!python3 run_train.py --num_workers 12 --datasets_folder ./Dataset_pitts30k --use_netvlad True --backbone resnet50moco --lr 0.00001 --epoch 20"
   ]
  }
 ],
 "metadata": {
  "interpreter": {
   "hash": "aee8b7b246df8f9039afb4144a1f6fd8d2ca17a180786b69acc140d282b71a49"
  },
  "kernelspec": {
   "display_name": "Python 3.9.7 64-bit",
   "language": "python",
   "name": "python3"
  },
  "language_info": {
   "codemirror_mode": {
    "name": "ipython",
    "version": 3
   },
   "file_extension": ".py",
   "mimetype": "text/x-python",
   "name": "python",
   "nbconvert_exporter": "python",
   "pygments_lexer": "ipython3",
   "version": "3.9.7"
  },
  "orig_nbformat": 4
 },
 "nbformat": 4,
 "nbformat_minor": 2
}
