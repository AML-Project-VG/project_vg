{
 "cells": [
  {
   "cell_type": "code",
   "execution_count": 3,
   "metadata": {},
   "outputs": [
    {
     "name": "stdout",
     "output_type": "stream",
     "text": [
      "2022-01-20 12:38:41   Arguments: Namespace(upscale_input=False, downscale_input=False, augment_input='None', backbone='resnet18', use_netvlad=True, netvlad_clusters=64, use_gem=None, gem_p=3, gem_eps=1e-06, use_attention='cbam', attention_lr=0.01, use_sgd=None, use_adagrad=None, momentum=0.9, train_batch_size=4, infer_batch_size=16, margin=0.1, epochs_num=20, patience=3, lr=1e-05, cache_refresh_rate=1000, queries_per_epoch=5000, negs_num_per_query=10, neg_samples_num=1000, seed=0, device='cuda', num_workers=8, val_positive_dist_threshold=25, train_positives_dist_threshold=10, recall_values=[1, 5, 10, 20], datasets_folder='./Dataset_pitts30k', exp_name='default', test_dataset_name=None, test_model_path=None, save_attention_mask=None, output_folder='runs/default/2022-01-20_12-38-41')\n",
      "2022-01-20 12:38:41   The outputs are being saved in runs/default/2022-01-20_12-38-41\n",
      "2022-01-20 12:38:41   Using 1 GPUs and 12 CPUs\n",
      "2022-01-20 12:38:41   Loading dataset Pitts30k from folder ./Dataset_pitts30k\n",
      "2022-01-20 12:38:41   There are 96 queries without any positives within the training set. They won't be considered as they're useless for training.\n",
      "/usr/lib/python3/dist-packages/numpy/core/_asarray.py:83: VisibleDeprecationWarning: Creating an ndarray from ragged nested sequences (which is a list-or-tuple of lists-or-tuples-or ndarrays with different lengths or shapes) is deprecated. If you meant to do this, you must specify 'dtype=object' when creating the ndarray\n",
      "  return array(a, dtype, copy=False, order=order)\n",
      "2022-01-20 12:38:41   Train query set: < TripletsDataset, pitts30k - #database: 10000; #queries: 7320 >\n",
      "2022-01-20 12:38:41   Val set: < BaseDataset, pitts30k - #database: 10000; #queries: 7608 >\n",
      "2022-01-20 12:38:41   Test set: < BaseDataset, pitts30k - #database: 10000; #queries: 6816 >\n",
      "2022-01-20 12:38:41   Train only conv4 of the ResNet-18 (remove conv5), freeze the previous ones\n",
      "Using Adam\n",
      "2022-01-20 12:38:45   Output dimension of the model is 16384\n",
      "2022-01-20 12:38:45   Start training epoch: 00\n",
      "2022-01-20 12:38:45   Cache: 0 / 5\n",
      " 11%|███████                                                       | 79/688 [00:05<00:38, 15.71it/s]^C\n",
      " 11%|███████                                                       | 79/688 [00:06<00:46, 13.16it/s]\n",
      "2022-01-20 12:38:51   \n",
      "Traceback (most recent call last):\n",
      "  File \"/home/franzhd/Aml_project/project_vg/run_train.py\", line 97, in <module>\n",
      "    triplets_ds.compute_triplets(args, model)\n",
      "  File \"/home/franzhd/Aml_project/project_vg/datasets_ws.py\", line 239, in compute_triplets\n",
      "    cache = self.compute_cache(args, model, subset_ds, (len(self), args.features_dim))\n",
      "  File \"/home/franzhd/Aml_project/project_vg/datasets_ws.py\", line 200, in compute_cache\n",
      "    cache[indexes.numpy()] = features.cpu().numpy()\n",
      "KeyboardInterrupt\n",
      "\n"
     ]
    }
   ],
   "source": [
    "!python3 --num_worker 10 run_train.py  --datasets_folder ./Dataset_pitts30k --use_netvlad True --backbone resnet18 --use_attention cbam --attention_lr 0.01 --epoch 20 --device cuda"
   ]
  }
 ],
 "metadata": {
  "interpreter": {
   "hash": "aee8b7b246df8f9039afb4144a1f6fd8d2ca17a180786b69acc140d282b71a49"
  },
  "kernelspec": {
   "display_name": "Python 3.9.7 64-bit",
   "language": "python",
   "name": "python3"
  },
  "language_info": {
   "codemirror_mode": {
    "name": "ipython",
    "version": 3
   },
   "file_extension": ".py",
   "mimetype": "text/x-python",
   "name": "python",
   "nbconvert_exporter": "python",
   "pygments_lexer": "ipython3",
   "version": "3.9.7"
  },
  "orig_nbformat": 4
 },
 "nbformat": 4,
 "nbformat_minor": 2
}
