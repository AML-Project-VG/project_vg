{
 "cells": [
  {
   "cell_type": "code",
   "execution_count": 58,
   "metadata": {},
   "outputs": [
    {
     "name": "stdout",
     "output_type": "stream",
     "text": [
      "usage: run_train.py [-h] [--upscale_input UPSCALE_INPUT]\n",
      "                    [--downscale_input DOWNSCALE_INPUT]\n",
      "                    [--augment_input {None,grayscale,color_jitter,sharpness_adjust}]\n",
      "                    [--backbone {alexnet,vgg16,resnet18,resnet50-conv5,resnet50-conv4,resnet50moco-conv4,resnet50moco-conv5}]\n",
      "                    [--use_netvlad USE_NETVLAD]\n",
      "                    [--netvlad_clusters NETVLAD_CLUSTERS] [--use_gem USE_GEM]\n",
      "                    [--gem_p GEM_P] [--gem_eps GEM_EPS]\n",
      "                    [--use_attention {crn,cbam}] [--attention_lr ATTENTION_LR]\n",
      "                    [--use_sgd USE_SGD] [--use_adagrad USE_ADAGRAD]\n",
      "                    [--momentum MOMENTUM]\n",
      "                    [--train_batch_size TRAIN_BATCH_SIZE]\n",
      "                    [--infer_batch_size INFER_BATCH_SIZE] [--margin MARGIN]\n",
      "                    [--epochs_num EPOCHS_NUM] [--patience PATIENCE] [--lr LR]\n",
      "                    [--cache_refresh_rate CACHE_REFRESH_RATE]\n",
      "                    [--queries_per_epoch QUERIES_PER_EPOCH]\n",
      "                    [--negs_num_per_query NEGS_NUM_PER_QUERY]\n",
      "                    [--neg_samples_num NEG_SAMPLES_NUM] [--seed SEED]\n",
      "                    [--device {cuda,cpu}] [--num_workers NUM_WORKERS]\n",
      "                    [--val_positive_dist_threshold VAL_POSITIVE_DIST_THRESHOLD]\n",
      "                    [--train_positives_dist_threshold TRAIN_POSITIVES_DIST_THRESHOLD]\n",
      "                    [--recall_values RECALL_VALUES [RECALL_VALUES ...]]\n",
      "                    --datasets_folder DATASETS_FOLDER [--exp_name EXP_NAME]\n",
      "                    [--test_dataset_name TEST_DATASET_NAME]\n",
      "                    [--test_model_path TEST_MODEL_PATH]\n",
      "                    [--save_attention_mask SAVE_ATTENTION_MASK]\n",
      "run_train.py: error: unrecognized arguments: --crn_lr 0.001\n"
     ]
    }
   ],
   "source": [
    "!python3 run_train.py --epoch 20 --datasets_folder ./Dataset_pitts30k --use_netvlad True --backbone resnet18 --use_attention crn --crn_lr 0.001 --lr 0.00001"
   ]
  },
  {
   "cell_type": "code",
   "execution_count": null,
   "metadata": {},
   "outputs": [
    {
     "name": "stdout",
     "output_type": "stream",
     "text": [
      "usage: run_train.py [-h] [--upscale_input UPSCALE_INPUT]\n",
      "                    [--downscale_input DOWNSCALE_INPUT]\n",
      "                    [--augment_input {None,grayscale,color_jitter,sharpness_adjust}]\n",
      "                    [--backbone {alexnet,vgg16,resnet18,resnet50-conv5,resnet50-conv4,resnet50moco-conv4,resnet50moco-conv5}]\n",
      "                    [--use_netvlad USE_NETVLAD]\n",
      "                    [--netvlad_clusters NETVLAD_CLUSTERS] [--use_gem USE_GEM]\n",
      "                    [--gem_p GEM_P] [--gem_eps GEM_EPS]\n",
      "                    [--use_attention {crn,cbam}] [--attention_lr ATTENTION_LR]\n",
      "                    [--use_sgd USE_SGD] [--use_adagrad USE_ADAGRAD]\n",
      "                    [--momentum MOMENTUM]\n",
      "                    [--train_batch_size TRAIN_BATCH_SIZE]\n",
      "                    [--infer_batch_size INFER_BATCH_SIZE] [--margin MARGIN]\n",
      "                    [--epochs_num EPOCHS_NUM] [--patience PATIENCE] [--lr LR]\n",
      "                    [--cache_refresh_rate CACHE_REFRESH_RATE]\n",
      "                    [--queries_per_epoch QUERIES_PER_EPOCH]\n",
      "                    [--negs_num_per_query NEGS_NUM_PER_QUERY]\n",
      "                    [--neg_samples_num NEG_SAMPLES_NUM] [--seed SEED]\n",
      "                    [--device {cuda,cpu}] [--num_workers NUM_WORKERS]\n",
      "                    [--val_positive_dist_threshold VAL_POSITIVE_DIST_THRESHOLD]\n",
      "                    [--train_positives_dist_threshold TRAIN_POSITIVES_DIST_THRESHOLD]\n",
      "                    [--recall_values RECALL_VALUES [RECALL_VALUES ...]]\n",
      "                    --datasets_folder DATASETS_FOLDER [--exp_name EXP_NAME]\n",
      "                    [--test_dataset_name TEST_DATASET_NAME]\n",
      "                    [--test_model_path TEST_MODEL_PATH]\n",
      "                    [--save_attention_mask SAVE_ATTENTION_MASK]\n",
      "run_train.py: error: unrecognized arguments: --crn_lr 0.0001\n"
     ]
    }
   ],
   "source": [
    "!python3 run_train.py --epoch 20 --datasets_folder ./Dataset_pitts30k --downscale_input True --use_netvlad True --backbone resnet18 --use_attention crn --crn_lr 0.0001 --lr 0.00001"
   ]
  },
  {
   "cell_type": "code",
   "execution_count": 60,
   "metadata": {},
   "outputs": [
    {
     "name": "stdout",
     "output_type": "stream",
     "text": [
      "2022-01-18 19:27:33   Arguments: Namespace(upscale_input=False, downscale_input=False, augment_input='None', backbone='vgg16', use_netvlad=True, netvlad_clusters=64, use_gem=None, gem_p=3, gem_eps=1e-06, use_attention=None, attention_lr=0.001, use_sgd=None, use_adagrad=None, momentum=0.9, train_batch_size=4, infer_batch_size=16, margin=0.1, epochs_num=20, patience=3, lr=1e-05, cache_refresh_rate=1000, queries_per_epoch=5000, negs_num_per_query=10, neg_samples_num=1000, seed=0, device='cuda', num_workers=8, val_positive_dist_threshold=25, train_positives_dist_threshold=10, recall_values=[1, 5, 10, 20], datasets_folder='./Dataset_pitts30k', exp_name='default', test_dataset_name=None, test_model_path=None, save_attention_mask=None, output_folder='runs/default/2022-01-18_19-27-33')\n",
      "2022-01-18 19:27:33   The outputs are being saved in runs/default/2022-01-18_19-27-33\n",
      "2022-01-18 19:27:33   Using 1 GPUs and 12 CPUs\n",
      "2022-01-18 19:27:33   Loading dataset Pitts30k from folder ./Dataset_pitts30k\n",
      "2022-01-18 19:27:33   There are 96 queries without any positives within the training set. They won't be considered as they're useless for training.\n",
      "/usr/lib/python3/dist-packages/numpy/core/_asarray.py:83: VisibleDeprecationWarning: Creating an ndarray from ragged nested sequences (which is a list-or-tuple of lists-or-tuples-or ndarrays with different lengths or shapes) is deprecated. If you meant to do this, you must specify 'dtype=object' when creating the ndarray\n",
      "  return array(a, dtype, copy=False, order=order)\n",
      "2022-01-18 19:27:33   Train query set: < TripletsDataset, pitts30k - #database: 10000; #queries: 7320 >\n",
      "2022-01-18 19:27:33   Val set: < BaseDataset, pitts30k - #database: 10000; #queries: 7608 >\n",
      "2022-01-18 19:27:33   Test set: < BaseDataset, pitts30k - #database: 10000; #queries: 6816 >\n",
      "Downloading: \"https://download.pytorch.org/models/vgg16-397923af.pth\" to /home/franzhd/.cache/torch/hub/checkpoints/vgg16-397923af.pth\n",
      "100%|████████████████████████████████████████| 528M/528M [00:09<00:00, 56.4MB/s]\n",
      "2022-01-18 19:27:44   Train only conv5_1, conv5_2, conv5_3 of the VGG16, freeze the previous ones\n",
      "2022-01-18 19:27:44   \n",
      "Traceback (most recent call last):\n",
      "  File \"/home/franzhd/Aml_project/project_vg/run_train.py\", line 49, in <module>\n",
      "    model = network.GeoLocalizationNet(args)\n",
      "  File \"/home/franzhd/Aml_project/project_vg/network.py\", line 40, in __init__\n",
      "    with h5py.File(initcache, mode='r') as h5:\n",
      "  File \"/home/franzhd/.local/lib/python3.9/site-packages/h5py/_hl/files.py\", line 507, in __init__\n",
      "    fid = make_fid(name, mode, userblock_size, fapl, fcpl, swmr=swmr)\n",
      "  File \"/home/franzhd/.local/lib/python3.9/site-packages/h5py/_hl/files.py\", line 220, in make_fid\n",
      "    fid = h5f.open(name, flags, fapl=fapl)\n",
      "  File \"h5py/_objects.pyx\", line 54, in h5py._objects.with_phil.wrapper\n",
      "  File \"h5py/_objects.pyx\", line 55, in h5py._objects.with_phil.wrapper\n",
      "  File \"h5py/h5f.pyx\", line 106, in h5py.h5f.open\n",
      "FileNotFoundError: [Errno 2] Unable to open file (unable to open file: name = './Dataset_pitts30k/centroids_64_vgg16_desc_cen.hdf5', errno = 2, error message = 'No such file or directory', flags = 0, o_flags = 0)\n",
      "\n"
     ]
    }
   ],
   "source": [
    "!python3 run_train.py --epoch 20 --datasets_folder ./Dataset_pitts30k --use_netvlad True --backbone vgg16 --lr 0.00001"
   ]
  },
  {
   "cell_type": "code",
   "execution_count": 62,
   "metadata": {},
   "outputs": [
    {
     "name": "stdout",
     "output_type": "stream",
     "text": [
      "2022-01-18 19:29:19   Arguments: Namespace(upscale_input=False, downscale_input=False, augment_input='None', backbone='resnet18', use_netvlad=True, netvlad_clusters=64, use_gem=None, gem_p=3, gem_eps=1e-06, use_attention='crn', attention_lr=0.001, use_sgd=None, use_adagrad=None, momentum=0.9, train_batch_size=4, infer_batch_size=16, margin=0.1, epochs_num=5, patience=3, lr=1e-05, cache_refresh_rate=1000, queries_per_epoch=5000, negs_num_per_query=10, neg_samples_num=1000, seed=0, device='cuda', num_workers=8, val_positive_dist_threshold=25, train_positives_dist_threshold=10, recall_values=[1, 5, 10, 20], datasets_folder='Dataset_st_lucia', exp_name='default', test_dataset_name='st_lucia', test_model_path='./runs/default/2022-01-18_17-37-47/best_model.pth', save_attention_mask=None, output_folder='test_runs/default/2022-01-18_19-29-19')\n",
      "2022-01-18 19:29:19   The outputs are being saved in test_runs/default/2022-01-18_19-29-19\n",
      "2022-01-18 19:29:19   Using 1 GPUs and 12 CPUs\n",
      "2022-01-18 19:29:19   Loading test dataset st_lucia from folder Dataset_st_lucia\n",
      "2022-01-18 19:29:19   Test set: < BaseDataset, st_lucia - #database: 1549; #queries: 1464 >\n",
      "2022-01-18 19:29:20   Train only conv4 of the ResNet-18 (remove conv5), freeze the previous ones\n",
      "2022-01-18 19:29:24   Extracting database features for evaluation/testing\n",
      "100%|███████████████████████████████████████████████████████████████| 97/97 [00:08<00:00, 12.03it/s]\n",
      "2022-01-18 19:29:32   Extracting queries features for evaluation/testing\n",
      "100%|███████████████████████████████████████████████████████████████| 92/92 [00:06<00:00, 13.61it/s]\n",
      "2022-01-18 19:29:39   Calculating recalls\n",
      "2022-01-18 19:29:39   Recalls on < BaseDataset, st_lucia - #database: 1549; #queries: 1464 >: R@1: 62.3, R@5: 76.6, R@10: 82.7, R@20: 87.7\n"
     ]
    }
   ],
   "source": [
    "!python3 run_test.py --datasets_folder Dataset_st_lucia --test_dataset_name st_lucia --test_model_path ./runs/default/2022-01-18_17-37-47/best_model.pth --use_netvlad True --use_attention crn --backbone resnet18"
   ]
  },
  {
   "cell_type": "code",
   "execution_count": null,
   "metadata": {},
   "outputs": [],
   "source": [
    "!python3 run_test.py --datasets_folder Dataset_st_lucia --test_dataset_name st_lucia --test_model_path ./runs/default/2022-01-18_12-05-15/best_model.pth --use_netvlad True --use_attention crn --backbone resnet18"
   ]
  }
 ],
 "metadata": {
  "interpreter": {
   "hash": "aee8b7b246df8f9039afb4144a1f6fd8d2ca17a180786b69acc140d282b71a49"
  },
  "kernelspec": {
   "display_name": "Python 3.9.7 64-bit",
   "language": "python",
   "name": "python3"
  },
  "language_info": {
   "codemirror_mode": {
    "name": "ipython",
    "version": 3
   },
   "file_extension": ".py",
   "mimetype": "text/x-python",
   "name": "python",
   "nbconvert_exporter": "python",
   "pygments_lexer": "ipython3",
   "version": "3.9.7"
  },
  "orig_nbformat": 4
 },
 "nbformat": 4,
 "nbformat_minor": 2
}
