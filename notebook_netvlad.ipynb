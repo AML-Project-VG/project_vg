{
 "cells": [
  {
   "cell_type": "code",
   "execution_count": null,
   "metadata": {},
   "outputs": [],
   "source": [
    "!python3 run_train.py --datasets_folder ./Dataset_pitts30k --epochs_num 20 --use_netvlad True --lr 0.00001 --train_positives_dist_threshold 5"
   ]
  },
  {
   "cell_type": "code",
   "execution_count": null,
   "metadata": {},
   "outputs": [],
   "source": [
    "!python3 run_train.py --datasets_folder ./Dataset_pitts30k --epochs_num 20 --use_netvlad True --lr 0.00001 --train_positives_dist_threshold 15"
   ]
  },
  {
   "cell_type": "code",
   "execution_count": null,
   "metadata": {},
   "outputs": [],
   "source": [
    "!python3 run_train.py --datasets_folder ./Dataset_pitts30k --epochs_num 20 --use_netvlad True --lr 0.00001 --use_sgd True --momentum 0.99"
   ]
  },
  {
   "cell_type": "code",
   "execution_count": null,
   "metadata": {},
   "outputs": [],
   "source": [
    "!python3 run_train.py --datasets_folder ./Dataset_pitts30k --epochs_num 20 --use_gem True --lr 0.00001 --use_sgd True --momentum 0.9"
   ]
  },
  {
   "cell_type": "code",
   "execution_count": null,
   "metadata": {},
   "outputs": [],
   "source": [
    "!python3 run_train.py --datasets_folder ./Dataset_pitts30k --epochs_num 20 --use_gem True --lr 0.00001 --use_adagrad True"
   ]
  },
  {
   "cell_type": "code",
   "execution_count": null,
   "metadata": {},
   "outputs": [],
   "source": [
    "!python3 run_train.py --datasets_folder ./Dataset_pitts30k --epochs_num 20 --use_netvlad True --lr 0.00001 --upscale_input True"
   ]
  },
  {
   "cell_type": "code",
   "execution_count": null,
   "metadata": {},
   "outputs": [],
   "source": [
    "!python3 run_train.py --datasets_folder ./Dataset_pitts30k --epochs_num 20 --use_netvlad True --lr 0.00001 --downscale_input True"
   ]
  },
  {
   "cell_type": "code",
   "execution_count": null,
   "metadata": {},
   "outputs": [],
   "source": [
    "!python3 run_train.py --datasets_folder ./Dataset_pitts30k --epochs_num 20 --use_netvlad True --lr 0.00001 --augment_input color_jitter"
   ]
  },
  {
   "cell_type": "code",
   "execution_count": null,
   "metadata": {},
   "outputs": [],
   "source": [
    "!python3 run_train.py --datasets_folder ./Dataset_pitts30k --epochs_num 20 --use_netvlad True --lr 0.00001 --augment_input grayscale"
   ]
  },
  {
   "cell_type": "code",
   "execution_count": null,
   "metadata": {},
   "outputs": [],
   "source": [
    "!python3 run_train.py --datasets_folder ./Dataset_pitts30k --epochs_num 20 --use_netvlad True --lr 0.00001 --augment_input sharpness_adjust"
   ]
  }
 ],
 "metadata": {
  "interpreter": {
   "hash": "aee8b7b246df8f9039afb4144a1f6fd8d2ca17a180786b69acc140d282b71a49"
  },
  "kernelspec": {
   "display_name": "Python 3.9.7 64-bit",
   "language": "python",
   "name": "python3"
  },
  "language_info": {
   "codemirror_mode": {
    "name": "ipython",
    "version": 3
   },
   "file_extension": ".py",
   "mimetype": "text/x-python",
   "name": "python",
   "nbconvert_exporter": "python",
   "pygments_lexer": "ipython3",
   "version": "3.9.7"
  },
  "orig_nbformat": 4
 },
 "nbformat": 4,
 "nbformat_minor": 2
}
