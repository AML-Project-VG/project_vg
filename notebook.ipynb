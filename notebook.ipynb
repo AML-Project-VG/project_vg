{
 "cells": [
  {
   "cell_type": "code",
   "execution_count": null,
   "metadata": {},
   "outputs": [],
   "source": [
    "!python3 train.py --datasets_folder ./Data --epochs_num 10 --use_netvlad True --lr 0.00001 --use_sgd True "
   ]
  },
  {
   "cell_type": "code",
   "execution_count": null,
   "metadata": {},
   "outputs": [],
   "source": [
    "!python3 train.py --datasets_folder ./Data --epochs_num 10 --use_netvlad True --lr 0.00001 --use_sgd True  --momentum 0.99"
   ]
  },
  {
   "cell_type": "code",
   "execution_count": null,
   "metadata": {},
   "outputs": [],
   "source": [
    "!python3 train.py --datasets_folder ./Data --epochs_num 10 --use_netvlad True --lr 0.00001 --use_adagrad True"
   ]
  }
 ],
 "metadata": {
  "language_info": {
   "name": "python"
  },
  "orig_nbformat": 4
 },
 "nbformat": 4,
 "nbformat_minor": 2
}
