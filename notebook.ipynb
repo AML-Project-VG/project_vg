{
 "cells": [
  {
   "cell_type": "code",
   "execution_count": null,
   "metadata": {},
   "outputs": [],
   "source": [
    "!python3 run_train.py --datasets_folder ./Dataset_pitts30k --epochs_num 10 --use_netvlad True --lr 0.000001 --netvlad_clusters 128"
   ]
  },
  {
   "cell_type": "code",
   "execution_count": null,
   "metadata": {},
   "outputs": [],
   "source": [
    "!python3 run_train.py --datasets_folder ./Dataset_pitts30k --epochs_num 10 --use_netvlad True --lr 0.000001 --netvlad_clusters 32"
   ]
  },
  {
   "cell_type": "markdown",
   "metadata": {},
   "source": [
    "# train_positives_dist_threshold"
   ]
  },
  {
   "cell_type": "code",
   "execution_count": null,
   "metadata": {},
   "outputs": [],
   "source": [
    "!python3 run_train.py --datasets_folder ./Dataset_pitts30k --epochs_num 10 --use_gem True --lr 0.00001 --train_positives_dist_threshold 15"
   ]
  },
  {
   "cell_type": "code",
   "execution_count": null,
   "metadata": {},
   "outputs": [],
   "source": [
    "!python3 run_train.py --datasets_folder ./Dataset_pitts30k --epochs_num 10 --use_gem True --lr 0.00001 --train_positives_dist_threshold 5"
   ]
  },
  {
   "cell_type": "markdown",
   "metadata": {},
   "source": [
    "# val_positives_dist_threshold"
   ]
  },
  {
   "cell_type": "code",
   "execution_count": null,
   "metadata": {},
   "outputs": [],
   "source": [
    "!python3 run_test.py --datasets_folder ./Dataset_pitts30k --test_dataset_name pitts30k --test_model_path \"./Runs/GeM_p_3_lr_10e-5_10/best_model.pth\" --val_positive_dist_threshold 20"
   ]
  },
  {
   "cell_type": "code",
   "execution_count": 1,
   "metadata": {},
   "outputs": [
    {
     "name": "stdout",
     "output_type": "stream",
     "text": [
      "2022-01-12 21:06:15   Arguments: Namespace(use_netvlad=None, netvlad_clusters=64, use_gem=None, gem_p=3, gem_eps=1e-06, use_sgd=None, use_adagrad=None, momentum=0.9, train_batch_size=4, infer_batch_size=16, margin=0.1, epochs_num=5, patience=3, lr=1e-05, cache_refresh_rate=1000, queries_per_epoch=5000, negs_num_per_query=10, neg_samples_num=1000, seed=0, device='cuda', num_workers=8, val_positive_dist_threshold=25, train_positives_dist_threshold=10, recall_values=[1, 5, 10, 20], datasets_folder='./Dataset_pitts30k', exp_name='default', test_dataset_name='pitts30k', test_model_path='./Runs/GeM_p_3_lr_10e-5_10/best_model.pth', output_folder='test_runs/default/2022-01-12_21-06-15')\n",
      "2022-01-12 21:06:15   The outputs are being saved in test_runs/default/2022-01-12_21-06-15\n",
      "2022-01-12 21:06:15   Using 0 GPUs and 8 CPUs\n",
      "2022-01-12 21:06:15   Loading test dataset pitts30k from folder ./Dataset_pitts30k\n",
      "2022-01-12 21:06:15   \n",
      "Traceback (most recent call last):\n",
      "  File \"/Users/marcobramini/Code/python/project_vg/run_test.py\", line 33, in <module>\n",
      "    test_ds = datasets_ws.BaseDataset(\n",
      "  File \"/Users/marcobramini/Code/python/project_vg/datasets_ws.py\", line 60, in __init__\n",
      "    if not os.path.exists(self.dataset_folder): raise FileNotFoundError(f\"Folder {self.dataset_folder} does not exist\")\n",
      "FileNotFoundError: Folder ./Dataset_pitts30k/pitts30k/images/test does not exist\n",
      "\n"
     ]
    }
   ],
   "source": [
    "!python3 run_test.py --datasets_folder ./Dataset_pitts30k --test_dataset_name pitts30k --test_model_path \"./Runs/GeM_p_3_lr_10e-5_10/best_model.pth\" --val_positive_dist_threshold 30"
   ]
  }
 ],
 "metadata": {
  "interpreter": {
   "hash": "aee8b7b246df8f9039afb4144a1f6fd8d2ca17a180786b69acc140d282b71a49"
  },
  "kernelspec": {
   "display_name": "Python 3.9.7 64-bit",
   "language": "python",
   "name": "python3"
  },
  "language_info": {
   "codemirror_mode": {
    "name": "ipython",
    "version": 3
   },
   "file_extension": ".py",
   "mimetype": "text/x-python",
   "name": "python",
   "nbconvert_exporter": "python",
   "pygments_lexer": "ipython3",
   "version": "3.9.7"
  },
  "orig_nbformat": 4
 },
 "nbformat": 4,
 "nbformat_minor": 2
}
