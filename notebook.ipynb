{
 "cells": [
  {
   "cell_type": "code",
   "execution_count": null,
   "metadata": {},
   "outputs": [],
   "source": [
    "!python3 run_train.py --datasets_folder ./Dataset_pitts30k --epochs_num 10 --use_netvlad True --lr 0.000001 --netvlad_clusters 128"
   ]
  },
  {
   "cell_type": "code",
   "execution_count": null,
   "metadata": {},
   "outputs": [],
   "source": [
    "!python3 run_train.py --datasets_folder ./Dataset_pitts30k --epochs_num 10 --use_netvlad True --lr 0.000001 --netvlad_clusters 32"
   ]
  },
  {
   "cell_type": "markdown",
   "metadata": {},
   "source": [
    "# train_positives_dist_threshold"
   ]
  },
  {
   "cell_type": "code",
   "execution_count": 4,
   "metadata": {},
   "outputs": [
    {
     "name": "stdout",
     "output_type": "stream",
     "text": [
      "2022-01-12 21:14:11   Arguments: Namespace(use_netvlad=None, netvlad_clusters=64, use_gem=True, gem_p=3, gem_eps=1e-06, use_sgd=None, use_adagrad=None, momentum=0.9, train_batch_size=4, infer_batch_size=16, margin=0.1, epochs_num=10, patience=3, lr=1e-05, cache_refresh_rate=1000, queries_per_epoch=5000, negs_num_per_query=10, neg_samples_num=1000, seed=0, device='cuda', num_workers=8, val_positive_dist_threshold=25, train_positives_dist_threshold=15, recall_values=[1, 5, 10, 20], datasets_folder='./Dataset_pitts30k', exp_name='default', test_dataset_name=None, test_model_path=None, output_folder='runs/default/2022-01-12_21-14-11')\n",
      "2022-01-12 21:14:11   The outputs are being saved in runs/default/2022-01-12_21-14-11\n",
      "2022-01-12 21:14:11   Using 1 GPUs and 12 CPUs\n",
      "2022-01-12 21:14:11   Loading dataset Pitts30k from folder ./Dataset_pitts30k\n",
      "2022-01-12 21:14:11   There are 48 queries without any positives within the training set. They won't be considered as they're useless for training.\n",
      "/usr/lib/python3/dist-packages/numpy/core/_asarray.py:83: VisibleDeprecationWarning: Creating an ndarray from ragged nested sequences (which is a list-or-tuple of lists-or-tuples-or ndarrays with different lengths or shapes) is deprecated. If you meant to do this, you must specify 'dtype=object' when creating the ndarray\n",
      "  return array(a, dtype, copy=False, order=order)\n",
      "2022-01-12 21:14:11   Train query set: < TripletsDataset, pitts30k - #database: 10000; #queries: 7368 >\n",
      "2022-01-12 21:14:11   Val set: < BaseDataset, pitts30k - #database: 10000; #queries: 7608 >\n",
      "2022-01-12 21:14:11   Test set: < BaseDataset, pitts30k - #database: 10000; #queries: 6816 >\n",
      "2022-01-12 21:14:11   Train only conv4 of the ResNet-18 (remove conv5), freeze the previous ones\n",
      "Using Adam\n",
      "2022-01-12 21:14:14   Output dimension of the model is 256\n",
      "2022-01-12 21:14:14   Start training epoch: 00\n",
      "2022-01-12 21:14:14   Cache: 0 / 5\n",
      " 44%|██████████████████████████▊                                  | 303/688 [00:15<00:18, 20.47it/s]^C\n",
      " 44%|██████████████████████████▊                                  | 303/688 [00:15<00:19, 19.70it/s]\n",
      "2022-01-12 21:14:30   \n",
      "Traceback (most recent call last):\n",
      "  File \"/home/franzhd/Aml_project/project_vg/run_train.py\", line 84, in <module>\n",
      "    triplets_ds.compute_triplets(args, model)\n",
      "  File \"/home/franzhd/Aml_project/project_vg/datasets_ws.py\", line 206, in compute_triplets\n",
      "    cache = self.compute_cache(args, model, subset_ds, (len(self), args.features_dim))\n",
      "  File \"/home/franzhd/Aml_project/project_vg/datasets_ws.py\", line 167, in compute_cache\n",
      "    cache[indexes.numpy()] = features.cpu().numpy()\n",
      "KeyboardInterrupt\n",
      "\n"
     ]
    }
   ],
   "source": [
    "!python3 run_train.py --datasets_folder ./Dataset_pitts30k --epochs_num 10 --use_gem True --lr 0.00001 --train_positives_dist_threshold 15"
   ]
  },
  {
   "cell_type": "code",
   "execution_count": null,
   "metadata": {},
   "outputs": [],
   "source": [
    "!python3 run_train.py --datasets_folder ./Dataset_pitts30k --epochs_num 10 --use_gem True --lr 0.00001 --train_positives_dist_threshold 5"
   ]
  },
  {
   "cell_type": "markdown",
   "metadata": {},
   "source": [
    "# val_positives_dist_threshold"
   ]
  },
  {
   "cell_type": "code",
   "execution_count": 3,
   "metadata": {},
   "outputs": [
    {
     "name": "stdout",
     "output_type": "stream",
     "text": [
      "2022-01-12 21:12:25   Arguments: Namespace(use_netvlad=None, netvlad_clusters=64, use_gem=None, gem_p=3, gem_eps=1e-06, use_sgd=None, use_adagrad=None, momentum=0.9, train_batch_size=4, infer_batch_size=16, margin=0.1, epochs_num=5, patience=3, lr=1e-05, cache_refresh_rate=1000, queries_per_epoch=5000, negs_num_per_query=10, neg_samples_num=1000, seed=0, device='cuda', num_workers=8, val_positive_dist_threshold=20, train_positives_dist_threshold=10, recall_values=[1, 5, 10, 20], datasets_folder='./Dataset_pitts30k', exp_name='default', test_dataset_name='pitts30k', test_model_path='./Runs/GeM_p_3_lr_10e-5_10/best_model.pth', output_folder='test_runs/default/2022-01-12_21-12-25')\n",
      "2022-01-12 21:12:25   The outputs are being saved in test_runs/default/2022-01-12_21-12-25\n",
      "2022-01-12 21:12:25   Using 1 GPUs and 12 CPUs\n",
      "2022-01-12 21:12:25   Loading test dataset pitts30k from folder ./Dataset_pitts30k\n",
      "2022-01-12 21:12:25   Test set: < BaseDataset, pitts30k - #database: 10000; #queries: 6816 >\n",
      "2022-01-12 21:12:25   Train only conv4 of the ResNet-18 (remove conv5), freeze the previous ones\n",
      "2022-01-12 21:12:28   Extracting database features for evaluation/testing\n",
      "100%|█████████████████████████████████████████████████████████████| 625/625 [00:31<00:00, 20.03it/s]\n",
      "2022-01-12 21:12:59   Extracting queries features for evaluation/testing\n",
      "100%|█████████████████████████████████████████████████████████████| 426/426 [00:21<00:00, 19.57it/s]\n",
      "2022-01-12 21:13:21   Calculating recalls\n",
      "2022-01-12 21:13:22   Recalls on < BaseDataset, pitts30k - #database: 10000; #queries: 6816 >: R@1: 58.5, R@5: 78.8, R@10: 84.7, R@20: 89.5\n"
     ]
    }
   ],
   "source": [
    "!python3 run_test.py --datasets_folder ./Dataset_pitts30k --test_dataset_name pitts30k --test_model_path \"./Runs/GeM_p_3_lr_10e-5_10/best_model.pth\" --val_positive_dist_threshold 20"
   ]
  },
  {
   "cell_type": "code",
   "execution_count": 2,
   "metadata": {},
   "outputs": [
    {
     "name": "stdout",
     "output_type": "stream",
     "text": [
      "2022-01-12 21:11:03   Arguments: Namespace(use_netvlad=None, netvlad_clusters=64, use_gem=None, gem_p=3, gem_eps=1e-06, use_sgd=None, use_adagrad=None, momentum=0.9, train_batch_size=4, infer_batch_size=16, margin=0.1, epochs_num=5, patience=3, lr=1e-05, cache_refresh_rate=1000, queries_per_epoch=5000, negs_num_per_query=10, neg_samples_num=1000, seed=0, device='cuda', num_workers=8, val_positive_dist_threshold=30, train_positives_dist_threshold=10, recall_values=[1, 5, 10, 20], datasets_folder='./Dataset_pitts30k', exp_name='default', test_dataset_name='pitts30k', test_model_path='./Runs/GeM_p_3_lr_10e-5_10/best_model.pth', output_folder='test_runs/default/2022-01-12_21-11-03')\n",
      "2022-01-12 21:11:03   The outputs are being saved in test_runs/default/2022-01-12_21-11-03\n",
      "2022-01-12 21:11:03   Using 1 GPUs and 12 CPUs\n",
      "2022-01-12 21:11:03   Loading test dataset pitts30k from folder ./Dataset_pitts30k\n",
      "2022-01-12 21:11:03   Test set: < BaseDataset, pitts30k - #database: 10000; #queries: 6816 >\n",
      "2022-01-12 21:11:03   Train only conv4 of the ResNet-18 (remove conv5), freeze the previous ones\n",
      "2022-01-12 21:11:06   Extracting database features for evaluation/testing\n",
      "100%|█████████████████████████████████████████████████████████████| 625/625 [00:31<00:00, 19.98it/s]\n",
      "2022-01-12 21:11:37   Extracting queries features for evaluation/testing\n",
      "100%|█████████████████████████████████████████████████████████████| 426/426 [00:21<00:00, 19.92it/s]\n",
      "2022-01-12 21:11:59   Calculating recalls\n",
      "2022-01-12 21:12:00   Recalls on < BaseDataset, pitts30k - #database: 10000; #queries: 6816 >: R@1: 62.0, R@5: 81.9, R@10: 87.8, R@20: 92.2\n"
     ]
    }
   ],
   "source": [
    "!python3 run_test.py --datasets_folder ./Dataset_pitts30k --test_dataset_name pitts30k --test_model_path \"./Runs/GeM_p_3_lr_10e-5_10/best_model.pth\" --val_positive_dist_threshold 30"
   ]
  }
 ],
 "metadata": {
  "interpreter": {
   "hash": "aee8b7b246df8f9039afb4144a1f6fd8d2ca17a180786b69acc140d282b71a49"
  },
  "kernelspec": {
   "display_name": "Python 3.9.7 64-bit",
   "language": "python",
   "name": "python3"
  },
  "language_info": {
   "codemirror_mode": {
    "name": "ipython",
    "version": 3
   },
   "file_extension": ".py",
   "mimetype": "text/x-python",
   "name": "python",
   "nbconvert_exporter": "python",
   "pygments_lexer": "ipython3",
   "version": "3.9.7"
  },
  "orig_nbformat": 4
 },
 "nbformat": 4,
 "nbformat_minor": 2
}
