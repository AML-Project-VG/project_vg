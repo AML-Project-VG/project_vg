{
 "cells": [
  {
   "cell_type": "code",
   "execution_count": null,
   "metadata": {},
   "outputs": [],
   "source": [
    "# NetVlad lr=10^-5 with SGD optimizer and momentum=0.9\n",
    "!python3 train.py --datasets_folder ./Data --epochs_num 10 --use_netvlad True --lr 0.00001 --use_sgd True "
   ]
  },
  {
   "cell_type": "code",
   "execution_count": null,
   "metadata": {},
   "outputs": [],
   "source": [
    "# NetVlad lr=10^-5 with SGD optimizer and momentum=0.99\n",
    "!python3 train.py --datasets_folder ./Data --epochs_num 10 --use_netvlad True --lr 0.00001 --use_sgd True  --momentum 0.99"
   ]
  },
  {
   "cell_type": "code",
   "execution_count": null,
   "metadata": {},
   "outputs": [],
   "source": [
    "# NetVlad lr=10^-5 with Adagrad optimizer\n",
    "!python3 train.py --datasets_folder ./Data --epochs_num 10 --use_netvlad True --lr 0.00001 --use_adagrad True"
   ]
  },
  {
   "cell_type": "code",
   "execution_count": null,
   "metadata": {},
   "outputs": [],
   "source": [
    "# GeM lr=10^-5 with Adam optimizer and gem_p=3\n",
    "\n",
    "!python3 train.py --datasets_folder ./Data --epochs_num 10 --use_gem True --lr 0.00001 "
   ]
  },
  {
   "cell_type": "code",
   "execution_count": null,
   "metadata": {},
   "outputs": [],
   "source": [
    "# GeM lr=10^-6 with Adam optimizer and gem_p=3\n",
    "!python3 train.py --datasets_folder ./Data --epochs_num 10 --use_gem True --lr 0.000001 "
   ]
  },
  {
   "cell_type": "code",
   "execution_count": null,
   "metadata": {},
   "outputs": [],
   "source": [
    "# GeM lr=10^-5 with SGD optimizer and momentum=0.9\n",
    "!python3 train.py --datasets_folder ./Data --epochs_num 10 --use_gem True --lr 0.00001 -use_sgd True"
   ]
  },
  {
   "cell_type": "code",
   "execution_count": null,
   "metadata": {},
   "outputs": [],
   "source": [
    "# GeM lr=10^-5 with Adagrad optmizer\n",
    "!python3 train.py --datasets_folder ./Data --epochs_num 10 --use_gem True --lr 0.00001 -use_adagrad True"
   ]
  }
 ],
 "metadata": {
  "language_info": {
   "name": "python"
  },
  "orig_nbformat": 4
 },
 "nbformat": 4,
 "nbformat_minor": 2
}
